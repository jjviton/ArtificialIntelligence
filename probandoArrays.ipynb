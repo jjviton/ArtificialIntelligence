{
 "cells": [
  {
   "cell_type": "code",
   "execution_count": 3,
   "metadata": {},
   "outputs": [],
   "source": [
    "import pandas as pd"
   ]
  },
  {
   "cell_type": "code",
   "execution_count": 5,
   "metadata": {},
   "outputs": [],
   "source": [
    "datos = pd.read_csv(\"C:/Users/jjjimenez/Documents/data_j3/AI/DataSets/CoatizacionSAN/san_2009_2019.csv\",header=0, decimal=\",\",delimiter=\";\")"
   ]
  },
  {
   "cell_type": "code",
   "execution_count": 9,
   "metadata": {},
   "outputs": [
    {
     "name": "stdout",
     "output_type": "stream",
     "text": [
      "<class 'pandas.core.frame.DataFrame'>\n",
      "RangeIndex: 2519 entries, 0 to 2518\n",
      "Data columns (total 7 columns):\n",
      "Date              2519 non-null object\n",
      "Open              2519 non-null float64\n",
      "High              2519 non-null float64\n",
      "Low               2519 non-null float64\n",
      "Close             2519 non-null float64\n",
      "Volume            2519 non-null int64\n",
      "Fecha Numerica    2519 non-null int64\n",
      "dtypes: float64(4), int64(2), object(1)\n",
      "memory usage: 137.8+ KB\n",
      "None\n"
     ]
    }
   ],
   "source": [
    "print (datos.info())"
   ]
  },
  {
   "cell_type": "code",
   "execution_count": 11,
   "metadata": {},
   "outputs": [],
   "source": [
    "import numpy as np"
   ]
  },
  {
   "cell_type": "code",
   "execution_count": 20,
   "metadata": {},
   "outputs": [],
   "source": [
    "npArray= np.array(datos)"
   ]
  },
  {
   "cell_type": "code",
   "execution_count": 22,
   "metadata": {},
   "outputs": [
    {
     "name": "stdout",
     "output_type": "stream",
     "text": [
      "0.0\n"
     ]
    }
   ],
   "source": [
    "print(npArray[1,4] - npArray[0,4])"
   ]
  }
 ],
 "metadata": {
  "kernelspec": {
   "display_name": "Python 3",
   "language": "python",
   "name": "python3"
  },
  "language_info": {
   "codemirror_mode": {
    "name": "ipython",
    "version": 3
   },
   "file_extension": ".py",
   "mimetype": "text/x-python",
   "name": "python",
   "nbconvert_exporter": "python",
   "pygments_lexer": "ipython3",
   "version": "3.7.0"
  }
 },
 "nbformat": 4,
 "nbformat_minor": 2
}
